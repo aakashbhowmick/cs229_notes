{
 "cells": [
  {
   "cell_type": "markdown",
   "id": "39b8940e",
   "metadata": {},
   "source": [
    "# Lecture 1 : Course Motivation"
   ]
  },
  {
   "cell_type": "markdown",
   "id": "06fc51a3",
   "metadata": {},
   "source": [
    "## Supervised Learning\n",
    "- Data is available containing instances of input and output, i.e. data is labelled.\n",
    "- Objective is to find a function that can predict output given an input vector."
   ]
  },
  {
   "cell_type": "markdown",
   "id": "1ff13d9c",
   "metadata": {},
   "source": [
    "## Unsupervised Learning\n",
    "- Find 'interesting' structures in unlabelled data.\n",
    "- Examples :\n",
    "    - Google News groups similar news articles\n",
    "    - Market segmentation\n",
    "    - Social network analysis\n",
    "    - Learn analogies from unlabelled text, e.g. Tokyo is to Japan what Washingon DC is to USA"
   ]
  },
  {
   "cell_type": "markdown",
   "id": "4f257038",
   "metadata": {},
   "source": [
    "## Reinforcement Learning\n",
    "- Learn by 'trial-and-error' and penalize errors.\n",
    "- Example : Game-playing, such as AlphaGo "
   ]
  },
  {
   "cell_type": "markdown",
   "id": "ab097d6f",
   "metadata": {},
   "source": [
    "### Side-Note:\n",
    "- Lot of decisions to make while building machine learning systems.\n",
    "- A learning algorithm will almost never work the first time.\n",
    "- Need to have a systematic engineering principles (read 'Machine Learning Yearning' book by Andrew Ng."
   ]
  }
 ],
 "metadata": {
  "kernelspec": {
   "display_name": "Python 3 (ipykernel)",
   "language": "python",
   "name": "python3"
  },
  "language_info": {
   "codemirror_mode": {
    "name": "ipython",
    "version": 3
   },
   "file_extension": ".py",
   "mimetype": "text/x-python",
   "name": "python",
   "nbconvert_exporter": "python",
   "pygments_lexer": "ipython3",
   "version": "3.8.5"
  }
 },
 "nbformat": 4,
 "nbformat_minor": 5
}

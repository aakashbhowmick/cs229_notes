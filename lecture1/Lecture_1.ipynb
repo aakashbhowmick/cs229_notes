{
 "cells": [
  {
   "cell_type": "markdown",
   "id": "28b7f091",
   "metadata": {},
   "source": [
    "# Lecture 1"
   ]
  },
  {
   "cell_type": "markdown",
   "id": "8f8e3428",
   "metadata": {},
   "source": [
    "### Supervised Learning\n",
    "- Data is available containing instances of input and output, i.e. data is labelled.\n",
    "- Objective is to find a function that can predict output given an input vector."
   ]
  },
  {
   "cell_type": "code",
   "execution_count": null,
   "id": "c7249708",
   "metadata": {},
   "outputs": [],
   "source": []
  }
 ],
 "metadata": {
  "kernelspec": {
   "display_name": "Python 3 (ipykernel)",
   "language": "python",
   "name": "python3"
  },
  "language_info": {
   "codemirror_mode": {
    "name": "ipython",
    "version": 3
   },
   "file_extension": ".py",
   "mimetype": "text/x-python",
   "name": "python",
   "nbconvert_exporter": "python",
   "pygments_lexer": "ipython3",
   "version": "3.8.5"
  }
 },
 "nbformat": 4,
 "nbformat_minor": 5
}
